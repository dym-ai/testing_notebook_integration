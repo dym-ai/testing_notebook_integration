{
  "metadata": {
    "kernelspec": {
      "name": "python3",
      "display_name": "Python 3",
      "language": "python"
    },
    "creator": "admin",
    "createdOn": 1631130051906,
    "tags": [],
    "customFields": {},
    "hide_input": false,
    "language_info": {
      "name": "python",
      "version": "3.7.9",
      "mimetype": "text/x-python",
      "codemirror_mode": {
        "name": "ipython",
        "version": 3
      },
      "pygments_lexer": "ipython3",
      "nbconvert_exporter": "python",
      "file_extension": ".py"
    },
    "modifiedBy": "admin"
  },
  "nbformat": 4,
  "nbformat_minor": 1,
  "cells": [
    {
      "execution_count": 10,
      "cell_type": "code",
      "metadata": {},
      "source": [
        "%pylab inline"
      ],
      "outputs": [
        {
          "output_type": "stream",
          "text": "Populating the interactive namespace from numpy and matplotlib\n",
          "name": "stdout"
        }
      ]
    },
    {
      "execution_count": 19,
      "cell_type": "code",
      "metadata": {},
      "source": [
        "import dataiku\nfrom dataiku import pandasutils as pdu\nimport pandas as pd"
      ],
      "outputs": []
    },
    {
      "execution_count": 20,
      "cell_type": "code",
      "metadata": {},
      "source": [
        "client \u003d dataiku.api_client()"
      ],
      "outputs": []
    },
    {
      "execution_count": 21,
      "cell_type": "code",
      "metadata": {},
      "source": [
        "#client.list_project_keys()\nproject \u003d client.get_project(\u0027DKU_TSHIRTS\u0027)"
      ],
      "outputs": []
    },
    {
      "execution_count": 22,
      "cell_type": "code",
      "metadata": {},
      "source": [
        "datasets \u003d project.list_datasets()\n#datasets"
      ],
      "outputs": []
    },
    {
      "execution_count": 23,
      "cell_type": "code",
      "metadata": {},
      "source": [
        "revenue_prediction_ds \u003d project.get_dataset(\u0027revenue_prediction\u0027)"
      ],
      "outputs": []
    },
    {
      "execution_count": 24,
      "cell_type": "code",
      "metadata": {},
      "source": [
        "last_metric_values \u003d revenue_prediction_ds.get_last_metric_values()"
      ],
      "outputs": []
    },
    {
      "execution_count": 25,
      "cell_type": "code",
      "metadata": {},
      "source": [
        "last_metric_values.get_all_ids()"
      ],
      "outputs": [
        {
          "output_type": "execute_result",
          "execution_count": 25,
          "data": {
            "text/plain": "[\u0027reporting:BUILD_START_DATE\u0027,\n \u0027reporting:BUILD_DURATION\u0027,\n \u0027reporting:WARNING_COUNT\u0027,\n \u0027reporting:BUILD_SUCCESS\u0027,\n \u0027check:CHECK:Max of prediction check\u0027,\n \u0027check:CHECK:Min of prediction check\u0027,\n \u0027check:CHECK:Python test\u0027,\n \u0027check:CHECK:Value in range of Min of prediction\u0027,\n \u0027check:CHECK:Value in set of reporting::BUILD_START_DATE\u0027,\n \u0027col_stats:MAX:prediction\u0027,\n \u0027reporting:METRICS_COMPUTATION_DURATION\u0027,\n \u0027col_stats:MIN:prediction\u0027,\n \u0027python:metric_name1:Python probe\u0027,\n \u0027python:metric_name2:Python probe\u0027]"
          },
          "metadata": {}
        }
      ]
    },
    {
      "execution_count": 26,
      "cell_type": "code",
      "metadata": {},
      "source": [
        "df \u003d revenue_prediction_ds.get_dataframe()"
      ],
      "outputs": [
        {
          "output_type": "error",
          "ename": "AttributeError",
          "evalue": "\u0027DSSDataset\u0027 object has no attribute \u0027get_dataframe\u0027",
          "traceback": [
            "\u001b[0;31m---------------------------------------------------------------------------\u001b[0m",
            "\u001b[0;31mAttributeError\u001b[0m                            Traceback (most recent call last)",
            "\u001b[0;32m\u003cipython-input-26-6046ce06b104\u003e\u001b[0m in \u001b[0;36m\u003cmodule\u003e\u001b[0;34m()\u001b[0m\n\u001b[0;32m----\u003e 1\u001b[0;31m \u001b[0mdf\u001b[0m \u001b[0;34m\u003d\u001b[0m \u001b[0mrevenue_prediction_ds\u001b[0m\u001b[0;34m.\u001b[0m\u001b[0mget_dataframe\u001b[0m\u001b[0;34m(\u001b[0m\u001b[0;34m)\u001b[0m\u001b[0;34m\u001b[0m\u001b[0;34m\u001b[0m\u001b[0m\n\u001b[0m",
            "\u001b[0;31mAttributeError\u001b[0m: \u0027DSSDataset\u0027 object has no attribute \u0027get_dataframe\u0027"
          ]
        }
      ]
    },
    {
      "execution_count": 0,
      "cell_type": "code",
      "metadata": {},
      "source": [
        ""
      ],
      "outputs": []
    }
  ]
}